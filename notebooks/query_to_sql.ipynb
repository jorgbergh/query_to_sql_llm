{
 "cells": [
  {
   "cell_type": "code",
   "execution_count": 29,
   "metadata": {},
   "outputs": [],
   "source": [
    "import requests\n",
    "import json\n",
    "import sqlite3\n",
    "import os\n",
    "from dotenv import load_dotenv\n",
    "import os\n",
    "from openai import OpenAI\n",
    "from pathlib import Path"
   ]
  },
  {
   "cell_type": "code",
   "execution_count": null,
   "metadata": {},
   "outputs": [],
   "source": [
    "def get_client():\n",
    "    \"\"\"\n",
    "    Get the client object\n",
    "\n",
    "    Returns:\n",
    "        client (?): The client object for OpenAI\n",
    "    \"\"\"\n",
    "    load_dotenv()\n",
    "    client = OpenAI(api_key=os.getenv(\"OPENAI_API_KEY\"))\n",
    "    return client"
   ]
  },
  {
   "cell_type": "code",
   "execution_count": null,
   "metadata": {},
   "outputs": [],
   "source": [
    "import openai\n",
    "\n",
    "\n",
    "def generate_sql_query(openai_client, user_query):\n",
    "    \"\"\"\n",
    "    Generates an SQL-query based on the user's query in Norwegian.\n",
    "\n",
    "    Parameters:\n",
    "        openai_client (OpenAI): An authenticated OpenAI API client object (e.g., openai).\n",
    "        user_query (str): The user's query in Norwegian, e.g. \"Vis alle driftsmeldinger der meldingstype er 'Alarm' og stasjon er 'Kobbervik'.\"\n",
    "    \n",
    "    Returns:\n",
    "        str: A string with the SQL-query. \n",
    "    \"\"\"\n",
    "\n",
    "    db_schema_description = \"\"\"\n",
    "    Du har en SQLite-database med én tabell kalt 'driftsmeldinger'.\n",
    "    Tabellen har følgende kolonner:\n",
    "      - id INTEGER PRIMARY KEY AUTOINCREMENT\n",
    "      - tid DATETIME NOT NULL\n",
    "      - hendelse VARCHAR(255) NOT NULL\n",
    "      - meldingstype VARCHAR(50) NOT NULL\n",
    "      - stasjon VARCHAR(50) NOT NULL\n",
    "    \"\"\"\n",
    "\n",
    "    system_message = f\"\"\"\n",
    "    Du er en hjelpsom assistent som genererer gyldige SQL-spørringer (for SQLite) basert på en brukerforespørsel.\n",
    "    Brukeren jobber med følgende databaseskjema:\n",
    "    {db_schema_description}\n",
    "\n",
    "    Når du genererer SQL-spørringen:\n",
    "      - Bruk korrekt SQLite-syntaks.\n",
    "      - Returner kun spørringen, uten ekstra forklaringer.\n",
    "    \"\"\"\n",
    "\n",
    "    user_message = f\"\"\"\n",
    "    {user_query}\n",
    "    \"\"\"\n",
    "\n",
    "    response = openai_client.chat.completions.create(\n",
    "        model=\"gpt-3.5-turbo\",\n",
    "        messages=[\n",
    "            {\"role\": \"system\", \"content\": system_message},\n",
    "            {\"role\": \"user\", \"content\": user_message},\n",
    "        ],\n",
    "        temperature=0\n",
    "    )\n",
    "\n",
    "    sql_query = response.choices[0].message.content.strip()\n",
    "    return sql_query"
   ]
  },
  {
   "cell_type": "code",
   "execution_count": 26,
   "metadata": {},
   "outputs": [],
   "source": [
    "def run_sql_query(db_path, sql_query):\n",
    "    \"\"\"\n",
    "    Executes the provided SQL query against the SQLite database located at db_path.\n",
    "    Returns all fetched rows.\n",
    "\n",
    "    :param db_path: Path to the SQLite database file (e.g. 'data/status_updates.db').\n",
    "    :param sql_query: The SQL query to be executed.\n",
    "    :return: A list of tuples representing the rows returned by the query.\n",
    "    \"\"\"\n",
    "    try:\n",
    "        with sqlite3.connect(db_path) as conn:\n",
    "            cursor = conn.cursor()\n",
    "            cursor.execute(sql_query)\n",
    "            results = cursor.fetchall()\n",
    "        return results\n",
    "    except sqlite3.Error as e:\n",
    "        print(f\"SQLite error: {e}\")\n",
    "        return []"
   ]
  },
  {
   "cell_type": "code",
   "execution_count": null,
   "metadata": {},
   "outputs": [],
   "source": [
    "#sql-parser\n"
   ]
  },
  {
   "cell_type": "code",
   "execution_count": 24,
   "metadata": {},
   "outputs": [],
   "source": [
    "user_query = \"Hendelser med meldingstype 'Alarm' og stasjon 'Kobbervik'.\"\n",
    "openai_client = get_client()\n",
    "sql_query = generate_sql_query(openai_client, user_query)"
   ]
  },
  {
   "cell_type": "code",
   "execution_count": 31,
   "metadata": {},
   "outputs": [
    {
     "name": "stdout",
     "output_type": "stream",
     "text": [
      "Database path: ../data/status_updates.db\n"
     ]
    },
    {
     "data": {
      "text/plain": [
       "[(11,\n",
       "  '2024-12-31 21:02:11',\n",
       "  'Kobbervik G1 Feil på sensor',\n",
       "  'Alarm',\n",
       "  'Kobbervik'),\n",
       " (16,\n",
       "  '2025-01-01 00:12:12',\n",
       "  'Kobbervik G2 Overoppheting registrert',\n",
       "  'Alarm',\n",
       "  'Kobbervik')]"
      ]
     },
     "execution_count": 31,
     "metadata": {},
     "output_type": "execute_result"
    }
   ],
   "source": [
    "database_path = \"../data/status_updates.db\"\n",
    "print(f\"Database path: {database_path}\")\n",
    "run_sql_query(database_path, sql_query)"
   ]
  },
  {
   "cell_type": "markdown",
   "metadata": {},
   "source": [
    "Thoughts: \n"
   ]
  }
 ],
 "metadata": {
  "kernelspec": {
   "display_name": "ML0",
   "language": "python",
   "name": "python3"
  },
  "language_info": {
   "codemirror_mode": {
    "name": "ipython",
    "version": 3
   },
   "file_extension": ".py",
   "mimetype": "text/x-python",
   "name": "python",
   "nbconvert_exporter": "python",
   "pygments_lexer": "ipython3",
   "version": "3.12.4"
  }
 },
 "nbformat": 4,
 "nbformat_minor": 2
}
